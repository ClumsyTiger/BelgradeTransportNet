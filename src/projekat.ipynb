{
 "cells": [
  {
   "attachments": {},
   "cell_type": "markdown",
   "metadata": {
    "tags": []
   },
   "source": [
    "# Analiza mreže javnog gradskog prevoza u Beogradu\n",
    "\n",
    "### Opis grafa\n",
    "TODO\n",
    "\n",
    "Podešavanje okruženja:\n",
    "+ pip install ipykernel\n",
    "+ pip install numpy scipy networkx pandas matplotlib\n",
    "+ pip install scikit-learn python-docx\n",
    "\n",
    "Linkovi:\n",
    "+ [Portal otvorenih podataka](https://data.gov.rs/sr/datasets/gtfs/)\n",
    "+ [General Transit Feed Specification](https://en.wikipedia.org/wiki/GTFS)\n",
    "+ [Linije javnog prevoza u Beogradu](https://sr.wikipedia.org/sr-el/%D0%9B%D0%B8%D0%BD%D0%B8%D1%98%D0%B5_%D1%98%D0%B0%D0%B2%D0%BD%D0%BE%D0%B3_%D0%BF%D1%80%D0%B5%D0%B2%D0%BE%D0%B7%D0%B0_%D1%83_%D0%91%D0%B5%D0%BE%D0%B3%D1%80%D0%B0%D0%B4%D1%83)\n",
    "+ [Sekretarijat za javni prevoz](https://www.bgprevoz.rs/)"
   ]
  },
  {
   "attachments": {},
   "cell_type": "markdown",
   "metadata": {},
   "source": [
    "### Globalne stvari"
   ]
  },
  {
   "cell_type": "code",
   "execution_count": null,
   "metadata": {},
   "outputs": [],
   "source": [
    "# importi\n",
    "import numpy as np\n",
    "import scipy.stats as stats\n",
    "import networkx as nx\n",
    "import pandas as pd\n",
    "import pickle\n",
    "import matplotlib.pyplot as plt\n",
    "from itertools import chain, combinations\n",
    "from sklearn.cluster import SpectralClustering\n",
    "from scipy.cluster.hierarchy import dendrogram\n",
    "\n",
    "\n",
    "# putanje\n",
    "original_path = \"../data/!original/\"\n",
    "clean_path = \"../data/clean/\"\n",
    "\n",
    "# globalne funkcije\n",
    "\n",
    "def series_to_single_value(series):\n",
    "    return series.to_list()[0]\n",
    "\n",
    "def cleaned_null_columns(df:pd.DataFrame):\n",
    "    def column_has_values(column):\n",
    "        return True\n",
    "    non_null_columns = [column for column in df.columns if not df[column].isna().all()]\n",
    "    return df[non_null_columns]\n",
    "\n",
    "def cleaned_duplicates(df:pd.DataFrame):\n",
    "    no_duplicates = df.drop_duplicates()\n",
    "    number_of_duplicates = df.shape[0] - no_duplicates.shape[0]\n",
    "    print(f'Number of duplicates in table is {number_of_duplicates}')\n",
    "    return no_duplicates\n",
    "\n",
    "def cleaned_data_frame(df:pd.DataFrame):\n",
    "    return cleaned_duplicates(cleaned_null_columns(df))\n",
    "\n",
    "# TODO"
   ]
  },
  {
   "attachments": {},
   "cell_type": "markdown",
   "metadata": {},
   "source": [
    "### Čišćenje podataka"
   ]
  },
  {
   "cell_type": "code",
   "execution_count": null,
   "metadata": {},
   "outputs": [],
   "source": [
    "# # # Originalni podaci se čuvaju u data/!original/ folderu.\n",
    "# Prečišćeni podaci se čuvaju u data/clean/ folderu.\n",
    "# BgNetLWalk podaci se čuvaju u data/consolidate/ folderu.    \n",
    "\n",
    "# TODO: izabrati koji se podaci koriste za izvršavanje\n",
    "# ! Komentare koji pocinju sa uzvicnikom ili upitnikom izbaciti iz finalne verzije\n",
    "df_agency = pd.read_csv(f\"{original_path}/agency.csv\")\n",
    "df_calendar_dates = pd.read_csv(f\"{original_path}/calendar_dates.csv\")\n",
    "df_calendar = pd.read_csv(f\"{original_path}/calendar.csv\")\n",
    "df_fare_attributes = pd.read_csv(f\"{original_path}/fare_attributes.csv\")\n",
    "df_fare_rules = pd.read_csv(f\"{original_path}/fare_rules.csv\")\n",
    "df_feed_info = pd.read_csv(f\"{original_path}feed_info.csv\")\n",
    "df_frequencies = pd.read_csv(f\"{original_path}/frequencies.csv\")#? Treba li da radimo u opstem slucaju i pravimo da ova tabela postoji, ili je bas poenta da je ignorisemo\n",
    "df_routes = pd.read_csv(f\"{original_path}/routes.csv\")\n",
    "df_shapes = pd.read_csv(f\"{original_path}/shapes.csv\")\n",
    "df_stops = pd.read_csv(f\"{original_path}/stops.csv\")\n",
    "df_stop_times = pd.read_csv(f\"{original_path}/stop_times.csv\", dtype={\"stop_headsign\":np.string_})\n",
    "df_transfers = pd.read_csv(f\"{original_path}/transfers.csv\")\n",
    "df_trips = pd.read_csv(f\"{original_path}/trips.csv\")\n",
    "\n",
    "\n",
    "all_frames = [df_agency, df_calendar_dates, df_calendar, df_fare_attributes, df_fare_rules, df_feed_info, df_frequencies, df_routes, df_shapes, df_stops, df_stop_times, df_transfers, df_trips]\n",
    "all_frames_cleaned = [cleaned_data_frame(df) for df in all_frames]\n",
    "\n",
    "\n"
   ]
  },
  {
   "cell_type": "code",
   "execution_count": null,
   "metadata": {},
   "outputs": [],
   "source": [
    "[df_agency, df_calendar_dates, df_calendar, df_fare_attributes, df_fare_rules, df_feed_info, df_frequencies, df_routes, df_shapes, df_stops, df_stop_times, df_transfers, df_trips] = all_frames_cleaned\n",
    "df_agency.to_csv(f\"{clean_path}/agency.csv\", index=False)\n",
    "df_calendar_dates.to_csv(f\"{clean_path}/calendar_dates.csv\", index=False)\n",
    "df_calendar.to_csv(f\"{clean_path}/calendar.csv\", index=False)\n",
    "df_fare_attributes.to_csv(f\"{clean_path}/fare_attributes.csv\", index=False)\n",
    "df_fare_rules.to_csv(f\"{clean_path}/fare_rules.csv\", index=False)\n",
    "df_feed_info.to_csv(f\"{clean_path}/feed_info.csv\", index=False)\n",
    "df_frequencies.to_csv(f\"{clean_path}/frequencies.csv\", index=False)\n",
    "df_routes.to_csv(f\"{clean_path}/routes.csv\", index=False)\n",
    "df_shapes.to_csv(f\"{clean_path}/shapes.csv\", index=False)\n",
    "df_stops.to_csv(f\"{clean_path}/stops.csv\", index=False)\n",
    "df_stop_times.to_csv(f\"{clean_path}/stop_times.csv\", index=False)\n",
    "df_transfers.to_csv(f\"{clean_path}/transfers.csv\", index=False)\n",
    "df_trips.to_csv(f\"{clean_path}/trips.csv\", index=False)"
   ]
  },
  {
   "cell_type": "code",
   "execution_count": null,
   "metadata": {},
   "outputs": [],
   "source": [
    "df_agency = pd.read_csv(f\"{clean_path}/agency.csv\")\n",
    "df_calendar_dates = pd.read_csv(f\"{clean_path}/calendar_dates.csv\")\n",
    "df_calendar = pd.read_csv(f\"{clean_path}/calendar.csv\")\n",
    "df_fare_attributes = pd.read_csv(f\"{clean_path}/fare_attributes.csv\")\n",
    "df_fare_rules = pd.read_csv(f\"{clean_path}/fare_rules.csv\")\n",
    "df_feed_info = pd.read_csv(f\"{clean_path}/feed_info.csv\")\n",
    "df_routes = pd.read_csv(f\"{clean_path}/routes.csv\")\n",
    "df_shapes = pd.read_csv(f\"{clean_path}/shapes.csv\")\n",
    "df_stops = pd.read_csv(f\"{clean_path}/stops.csv\")\n",
    "df_stop_times = pd.read_csv(f\"{clean_path}/stop_times.csv\", dtype={\"stop_headsign\":np.string_})\n",
    "df_trips = pd.read_csv(f\"{clean_path}/trips.csv\")\n"
   ]
  },
  {
   "attachments": {},
   "cell_type": "markdown",
   "metadata": {},
   "source": [
    "### Statistička obrada podataka [5 poena]\n",
    "1) Odrediti prosečno vreme između dva polaska svake od linija. Koje su linije sa najčešćim, a koje sa najređim polascima?\n",
    "2) Koje su linije sa najvećim brojem stanica, a koje stanice sa najvećim brojem linija?\n",
    "3) Preračunati očekivani dnevni promet stanice kao ukupan očekivani broj stajanja linije na toj stanici, određen na osnovu planiranog rasporeda vožnje. Koje su stanice sa najvećim očekivanim dnevnim prometom?\n",
    "4) Svakoj stanici dodeliti tip na osnovu vrsta prevoza koje prolaze njom (stanica autobusa, tramvaja, trolejbusa ili meštovita stanica). Koliko ima stanica svakog tipa?"
   ]
  },
  {
   "cell_type": "code",
   "execution_count": null,
   "metadata": {},
   "outputs": [],
   "source": [
    "# 1) Odrediti prosečno vreme između dva polaska svake od linija.\n",
    "# Koje su linije sa najčešćim, a koje sa najređim polascima?\n",
    "\n",
    "# TODO\n",
    "df_stop_times [df_stop_times[\"stop_headsign\"].notna()]"
   ]
  },
  {
   "cell_type": "code",
   "execution_count": null,
   "metadata": {},
   "outputs": [],
   "source": [
    "df_trips"
   ]
  },
  {
   "cell_type": "code",
   "execution_count": null,
   "metadata": {},
   "outputs": [],
   "source": []
  },
  {
   "cell_type": "code",
   "execution_count": null,
   "metadata": {},
   "outputs": [],
   "source": [
    "# 2) Koje su linije sa najvećim brojem stanica, a koje stanice sa najvećim brojem linija?\n",
    "\n",
    "# TODO\n",
    "#stops (identified by the name) with routes\n",
    "\n",
    "#! Treba izvrsiti spajanje stanica pa iskombinovati sa ovim\n",
    "def find_stops_with_most_routes():\n",
    "    def stop_name_from_id(stop_id):\n",
    "        return df_stops[df_stops[\"stop_id\"] == stop_id].iloc[0][\"stop_name\"]\n",
    "\n",
    "    def route_id_from_trip(trip_id):\n",
    "        return df_trips[df_trips[\"trip_id\"] == trip_id].iloc[0][\"route_id\"]\n",
    "\n",
    "\n",
    "\n",
    "    test_example = df_stop_times[[\"stop_id\", \"trip_id\"]].head(100) #! Kod mene je presporo da probam na celom skupu\n",
    "    #stop_times_with_route = test_example[[\"stop_id\", \"trip_id\"]].assign(route_id = test_example[\"trip_id\"].map(lambda x: route_id_from_trip(x)))\n",
    "    stop_times_with_route = df_stop_times[[\"stop_id\", \"trip_id\"]].assign(route_id = df_stop_times[\"trip_id\"].map(lambda x: route_id_from_trip(x)))\n",
    "\n",
    "    stop_ids_with_num_routes= stop_times_with_route[[\"stop_id\", \"route_id\"]].groupby(\"stop_id\").count().reset_index()\n",
    "    stop_names_with_num_routes = stop_ids_with_num_routes.assign(stop_name = stop_ids_with_num_routes[\"stop_id\"].map(lambda x: stop_name_from_id(x)))\n",
    "\n",
    "    #! Treba videti kako da preimenujem sad ovu rout_id u broj ruta\n",
    "    lines_with_most_routes = stop_names_with_num_routes.loc[stop_ids_with_num_routes[\"route_id\"] == stop_ids_with_num_routes[\"route_id\"].max()][[\"stop_name\", \"route_id\"]]\n",
    "    return lines_with_most_routes\n",
    "\n",
    "find_stops_with_most_routes()\n"
   ]
  },
  {
   "cell_type": "code",
   "execution_count": null,
   "metadata": {},
   "outputs": [],
   "source": [
    "# 3) Preračunati očekivani dnevni promet stanice kao ukupan očekivani broj stajanja linije na toj stanici,\n",
    "# određen na osnovu planiranog rasporeda vožnje. Koje su stanice sa najvećim očekivanim dnevnim prometom?\n",
    "\n",
    "# TODO"
   ]
  },
  {
   "cell_type": "code",
   "execution_count": null,
   "metadata": {},
   "outputs": [],
   "source": [
    "# 4) Svakoj stanici dodeliti tip na osnovu vrsta prevoza koje prolaze njom\n",
    "# (stanica autobusa, tramvaja, trolejbusa ili meštovita stanica). Koliko ima stanica svakog tipa?\n",
    "\n",
    "# TODO"
   ]
  },
  {
   "attachments": {},
   "cell_type": "markdown",
   "metadata": {},
   "source": [
    "### Osnovna karakterizacija modelovanih mreža [10 poena]\n",
    "5) Kolika je gustina mreže?\n",
    "6) Kolike su prosečne distance u okviru mreže i dijametar mreže?\n",
    "7) U kojoj meri je mreža povezana i centralizovana? Navesti broj i veličine povezanih komponenata i proceniti da li postoji gigantska komponenta.\n",
    "8) Koliki je prosečni, a koliki globalni koeficijent klasterizacije mreže? Kakva je raspodela lokalnog koeficijenta klasterizacije njenih čvorova? Da li je klasterisanje izraženo ili ne? Odgovor dati upoređivanjem sa slučajno generisanim Erdos-Renyi i scale free mrežama istih dimenzija.\n",
    "9) Na osnovu odgovora na pitanja 6 i 8, proceniti da li mreža iskazuje osobine malog sveta.\n",
    "10) Izvršiti asortativnu analizu po stepenu čvora i dati odgovor da li je izraženo asortativno mešanje. Priložiti i vizuelizaciju.\n",
    "11) Da li mreža ispoljava fenomen kluba bogatih (eng. rich club phenomenon)?\n",
    "12) Analizirati stajališta na osnovu tarifne zone kojoj pripadaju. Ispitati da li BGNetL i BGNetP mreže odgovaraju modelu jezgra i periferije (core-periphery model). Smatrati da prva zona pripada jezgru, a ostale periferiji.\n",
    "13) Kakva je distribucija čvorova po stepenu i da li prati power law raspodelu?"
   ]
  },
  {
   "cell_type": "code",
   "execution_count": null,
   "metadata": {},
   "outputs": [],
   "source": [
    "# 5) Kolika je gustina mreže?\n",
    "\n",
    "#TODO"
   ]
  },
  {
   "cell_type": "code",
   "execution_count": null,
   "metadata": {},
   "outputs": [],
   "source": [
    "# 6) Kolike su prosečne distance u okviru mreže i dijametar mreže?\n",
    "\n",
    "#TODO"
   ]
  },
  {
   "cell_type": "code",
   "execution_count": null,
   "metadata": {},
   "outputs": [],
   "source": [
    "# 7) U kojoj meri je mreža povezana i centralizovana?\n",
    "# Navesti broj i veličine povezanih komponenata i proceniti da li postoji gigantska komponenta.\n",
    "\n",
    "#TODO"
   ]
  },
  {
   "cell_type": "code",
   "execution_count": null,
   "metadata": {},
   "outputs": [],
   "source": [
    "# 8) Koliki je prosečni, a koliki globalni koeficijent klasterizacije mreže?\n",
    "# Kakva je raspodela lokalnog koeficijenta klasterizacije njenih čvorova?\n",
    "# Da li je klasterisanje izraženo ili ne?\n",
    "# Odgovor dati upoređivanjem sa slučajno generisanim Erdos-Renyi i scale free mrežama istih dimenzija.\n",
    "\n",
    "#TODO"
   ]
  },
  {
   "cell_type": "code",
   "execution_count": null,
   "metadata": {},
   "outputs": [],
   "source": [
    "# 9) Na osnovu odgovora na pitanja 6 i 8, proceniti da li mreža iskazuje osobine malog sveta.\n",
    "\n",
    "#TODO"
   ]
  },
  {
   "cell_type": "code",
   "execution_count": null,
   "metadata": {},
   "outputs": [],
   "source": [
    "# 10) Izvršiti asortativnu analizu po stepenu čvora i dati odgovor\n",
    "# da li je izraženo asortativno mešanje. Priložiti i vizuelizaciju.\n",
    "\n",
    "#TODO"
   ]
  },
  {
   "cell_type": "code",
   "execution_count": null,
   "metadata": {},
   "outputs": [],
   "source": [
    "# 11) Da li mreža ispoljava fenomen kluba bogatih (eng. rich club phenomenon)?\n",
    "\n",
    "#TODO"
   ]
  },
  {
   "cell_type": "code",
   "execution_count": null,
   "metadata": {},
   "outputs": [],
   "source": [
    "# 12) Analizirati stajališta na osnovu tarifne zone kojoj pripadaju.\n",
    "# Ispitati da li BGNetL i BGNetP mreže odgovaraju modelu jezgra i periferije (core-periphery model).\n",
    "# Smatrati da prva zona pripada jezgru, a ostale periferiji.\n",
    "\n",
    "#TODO"
   ]
  },
  {
   "cell_type": "code",
   "execution_count": null,
   "metadata": {},
   "outputs": [],
   "source": [
    "# 13) Kakva je distribucija čvorova po stepenu i da li prati power law raspodelu?\n",
    "\n",
    "#TODO"
   ]
  },
  {
   "attachments": {},
   "cell_type": "markdown",
   "metadata": {},
   "source": [
    "### Analiza mera centralnosti [5 poena]\n",
    "14) Sprovesti analize centralnosti po stepenu, bliskosti i relacionoj centralnosti. Dati pregled najvažnijih aktera po svakoj od njih.\n",
    "15) Ko su najvažniji akteri po centralnosti po sopstvenom vektoru? Šta nam to govori o njima?\n",
    "16) Na osnovu prethodna dva pitanja predložiti i konstruisati heuristiku (kompozitnu meru centralnosti) za pronalaženje najvažnijih aktera i pronaći ih. Obratiti pažnju na tip mreže koji se analizira (usmerena ili neusmerena) i, shodno tome, prilagoditi koliko različite mrežne metrike utiču na heuristiku."
   ]
  },
  {
   "cell_type": "code",
   "execution_count": null,
   "metadata": {},
   "outputs": [],
   "source": [
    "# 14) Sprovesti analize centralnosti po stepenu, bliskosti i relacionoj centralnosti.\n",
    "# Dati pregled najvažnijih aktera po svakoj od njih.\n",
    "\n",
    "# TODO"
   ]
  },
  {
   "cell_type": "code",
   "execution_count": null,
   "metadata": {},
   "outputs": [],
   "source": [
    "# 15) Ko su najvažniji akteri po centralnosti po sopstvenom vektoru? Šta nam to govori o njima?\n",
    "\n",
    "# TODO"
   ]
  },
  {
   "cell_type": "code",
   "execution_count": null,
   "metadata": {},
   "outputs": [],
   "source": [
    "# 16) Na osnovu prethodna dva pitanja predložiti i konstruisati heuristiku (kompozitnu meru centralnosti)\n",
    "# za pronalaženje najvažnijih aktera i pronaći ih. Obratiti pažnju na tip mreže koji se analizira (usmerena ili neusmerena) i,\n",
    "# shodno tome, prilagoditi koliko različite mrežne metrike utiču na heuristiku.\n",
    "\n",
    "# TODO"
   ]
  },
  {
   "attachments": {},
   "cell_type": "markdown",
   "metadata": {},
   "source": [
    "### Detekcija komuna Luvenskom metodom [5 poena]\n",
    "17) Sprovesti klasterisanje Luvenskom metodom (maksimizacijom modularnosti) u alatu Gephi za tri različite vrednosti parametra rezolucije. Konstruisati vizuelizacije i diskutovati izbor parametra rezolucije na dobijeno klasterisanje (broj i veličina klastera).\n",
    "18) Koje zajednice (komune) se mogu uočiti prilikom analize mreže, a koji akteri su ključni brokeri? Da li postoji neko objašnjenje za detektovane komune? Odgovor dati posmatrajući ne samo strukturu mreže, već i atribute preračunate u pitanjima 3 i 4."
   ]
  },
  {
   "cell_type": "code",
   "execution_count": null,
   "metadata": {},
   "outputs": [],
   "source": [
    "# 17) Sprovesti klasterisanje Luvenskom metodom (maksimizacijom modularnosti) u alatu Gephi za tri različite vrednosti parametra rezolucije.\n",
    "# Konstruisati vizuelizacije i diskutovati izbor parametra rezolucije na dobijeno klasterisanje (broj i veličina klastera).\n",
    "\n",
    "# TODO"
   ]
  },
  {
   "cell_type": "code",
   "execution_count": null,
   "metadata": {},
   "outputs": [],
   "source": [
    "# 18) Koje zajednice (komune) se mogu uočiti prilikom analize mreže, a koji akteri su ključni brokeri?\n",
    "# Da li postoji neko objašnjenje za detektovane komune?\n",
    "# Odgovor dati posmatrajući ne samo strukturu mreže, već i atribute preračunate u pitanjima 3 i 4.\n",
    "\n",
    "# TODO"
   ]
  },
  {
   "attachments": {},
   "cell_type": "markdown",
   "metadata": {},
   "source": [
    "### Detekcija komuna spektralnim klasterisanjem [10 poena]\n",
    "19) Predložiti funkcije sličnosti za L i P modele koje, osim strukturnih informacija iz odgovarajućih mreža, uključuju i geografske podatke o čvorovima i konstruisati matrice sličnosti i graf Laplasijane na osnovu predloženih funkcija sličnosti.\n",
    "20) Sprovesti sprektralnu analizu i proceniti potencijalne kandidate za broj komuna u mreži. Uporediti rezultat sa dendogramom konstruisanim Girvan-Newman metodom.\n",
    "21) Izvršiti spektralno klasterisanje na osnovu konstruisanih funkcija sličnosti i procenjenog broja klastera. Vizuelizovati klasterisanje na mapi gradskog saobraćaja, tako što će se stanice koje su svrstane u isti klaster crtati istom bojom. Izabrati boje koje daju dobar kontrast u odnosu na mapu i boje drugih klastera.\n",
    "22) Ko su akteri koji se mogu okarakterisati kao ključni brokeri (mostovi) u mreži? Šta ih čini brokerima? Porediti odgovor sa brokerima dobijenim u pitanju 17."
   ]
  },
  {
   "cell_type": "code",
   "execution_count": null,
   "metadata": {},
   "outputs": [],
   "source": [
    "# 19) Predložiti funkcije sličnosti za L i P modele koje, osim strukturnih informacija iz odgovarajućih mreža,\n",
    "# uključuju i geografske podatke o čvorovima i konstruisati matrice sličnosti i graf Laplasijane na osnovu predloženih funkcija sličnosti.\n",
    "\n",
    "# TODO"
   ]
  },
  {
   "cell_type": "code",
   "execution_count": null,
   "metadata": {},
   "outputs": [],
   "source": [
    "# 20) Sprovesti sprektralnu analizu i proceniti potencijalne kandidate za broj komuna u mreži.\n",
    "# Uporediti rezultat sa dendogramom konstruisanim Girvan-Newman metodom.\n",
    "\n",
    "# TODO"
   ]
  },
  {
   "cell_type": "code",
   "execution_count": null,
   "metadata": {},
   "outputs": [],
   "source": [
    "# 21) Izvršiti spektralno klasterisanje na osnovu konstruisanih funkcija sličnosti i procenjenog broja klastera.\n",
    "# Vizuelizovati klasterisanje na mapi gradskog saobraćaja, tako što će se stanice koje su svrstane u isti klaster crtati istom bojom.\n",
    "# Izabrati boje koje daju dobar kontrast u odnosu na mapu i boje drugih klastera.\n",
    "\n",
    "# TODO"
   ]
  },
  {
   "cell_type": "code",
   "execution_count": null,
   "metadata": {},
   "outputs": [],
   "source": [
    "# 22) Ko su akteri koji se mogu okarakterisati kao ključni brokeri (mostovi) u mreži?\n",
    "# Šta ih čini brokerima?\n",
    "# Porediti odgovor sa brokerima dobijenim u pitanju 17.\n",
    "\n",
    "# TODO"
   ]
  },
  {
   "attachments": {},
   "cell_type": "markdown",
   "metadata": {},
   "source": [
    "### Analiza mreže BGNetLWalk [5 poena]\n",
    "23) Ponoviti sve analize koje imaju smisla za BGNetLWalk mrežu. Uporediti i komentarisati dobijene rezultate sa BGNetL mrežom. Da li se uočavaju značajnije promene u mreži?"
   ]
  },
  {
   "cell_type": "code",
   "execution_count": null,
   "metadata": {},
   "outputs": [],
   "source": [
    "# 23) Ponoviti sve analize koje imaju smisla za BGNetLWalk mrežu.\n",
    "# Uporediti i komentarisati dobijene rezultate sa BGNetL mrežom.\n",
    "# Da li se uočavaju značajnije promene u mreži?\n",
    "\n",
    "# TODO: pokrenuti notebook sa drugačijim parametrima"
   ]
  }
 ],
 "metadata": {
  "kernelspec": {
   "display_name": "Python 3.10.8 ('transportation')",
   "language": "python",
   "name": "python3"
  },
  "language_info": {
   "codemirror_mode": {
    "name": "ipython",
    "version": 3
   },
   "file_extension": ".py",
   "mimetype": "text/x-python",
   "name": "python",
   "nbconvert_exporter": "python",
   "pygments_lexer": "ipython3",
   "version": "3.10.8"
  },
  "orig_nbformat": 4,
  "vscode": {
   "interpreter": {
    "hash": "ca004c2a04cd50eac9f754ef6aa1cd1a69bcab382224ee4cd556869f43c35bb8"
   }
  }
 },
 "nbformat": 4,
 "nbformat_minor": 2
}
