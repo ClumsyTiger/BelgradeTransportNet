{
 "cells": [
  {
   "attachments": {},
   "cell_type": "markdown",
   "metadata": {
    "tags": []
   },
   "source": [
    "# Analiza mreže javnog gradskog prevoza u Beogradu\n",
    "\n",
    "### Opis grafa\n",
    "TODO\n",
    "\n",
    "Podešavanje okruženja:\n",
    "+ pip install ipykernel\n",
    "+ pip install numpy scipy networkx pandas matplotlib\n",
    "+ pip install scikit-learn python-docx\n",
    "\n",
    "Linkovi:\n",
    "+ [Portal otvorenih podataka](https://data.gov.rs/sr/datasets/gtfs/)\n",
    "+ [General Transit Feed Specification](https://en.wikipedia.org/wiki/GTFS)\n",
    "+ [Linije javnog prevoza u Beogradu](https://sr.wikipedia.org/sr-el/%D0%9B%D0%B8%D0%BD%D0%B8%D1%98%D0%B5_%D1%98%D0%B0%D0%B2%D0%BD%D0%BE%D0%B3_%D0%BF%D1%80%D0%B5%D0%B2%D0%BE%D0%B7%D0%B0_%D1%83_%D0%91%D0%B5%D0%BE%D0%B3%D1%80%D0%B0%D0%B4%D1%83)\n",
    "+ [Sekretarijat za javni prevoz](https://www.bgprevoz.rs/)"
   ]
  },
  {
   "attachments": {},
   "cell_type": "markdown",
   "metadata": {},
   "source": [
    "### Globalne stvari"
   ]
  },
  {
   "cell_type": "code",
   "execution_count": 4,
   "metadata": {},
   "outputs": [],
   "source": [
    "# importi\n",
    "import numpy as np\n",
    "import scipy.stats as stats\n",
    "import networkx as nx\n",
    "import pandas as pd\n",
    "import pickle\n",
    "import matplotlib.pyplot as plt\n",
    "from itertools import chain, combinations\n",
    "from sklearn.cluster import SpectralClustering\n",
    "from scipy.cluster.hierarchy import dendrogram\n",
    "\n",
    "\n",
    "# putanje\n",
    "original_path = \"../data/!original/\"\n",
    "clean_path = \"../data/clean/\"\n",
    "\n",
    "# globalne funkcije\n",
    "\n",
    "def series_to_single_value(series):\n",
    "    return series.to_list()[0]\n",
    "\n",
    "# TODO"
   ]
  },
  {
   "attachments": {},
   "cell_type": "markdown",
   "metadata": {},
   "source": [
    "### Čišćenje podataka"
   ]
  },
  {
   "cell_type": "code",
   "execution_count": 5,
   "metadata": {},
   "outputs": [
    {
     "name": "stderr",
     "output_type": "stream",
     "text": [
      "C:\\Users\\Vojin\\AppData\\Local\\Temp\\ipykernel_4744\\3588308021.py:17: DtypeWarning: Columns (5) have mixed types. Specify dtype option on import or set low_memory=False.\n",
      "  df_stop_times = pd.read_csv(f\"{original_path}/stop_times.csv\")#! Nisam jos pogledao sta ne valja od dtypa\n"
     ]
    }
   ],
   "source": [
    "# # # Originalni podaci se čuvaju u data/!original/ folderu.\n",
    "# Prečišćeni podaci se čuvaju u data/clean/ folderu.\n",
    "# BgNetLWalk podaci se čuvaju u data/consolidate/ folderu.    \n",
    "\n",
    "# TODO: izabrati koji se podaci koriste za izvršavanje\n",
    "# ! Komentare koji pocinju sa uzvicnikom ili upitnikom izbaciti iz finalne verzije\n",
    "df_agency = pd.read_csv(f\"{original_path}/agency.csv\")\n",
    "df_calendar_dates = pd.read_csv(f\"{original_path}/calendar_dates.csv\")\n",
    "df_calendar = pd.read_csv(f\"{original_path}/calendar.csv\")\n",
    "df_fare_attributes = pd.read_csv(f\"{original_path}/fare_attributes.csv\")\n",
    "df_fare_rules = pd.read_csv(f\"{original_path}/fare_rules.csv\")\n",
    "df_feed_info = pd.read_csv(f\"{original_path}feed_info.csv\")\n",
    "df_frequencies = pd.read_csv(f\"{original_path}/frequencies.csv\")#? Treba li da radimo u opstem slucaju i pravimo da ova tabela postoji, ili je bas poenta da je ignorisemo\n",
    "df_routes = pd.read_csv(f\"{original_path}/routes.csv\")\n",
    "df_shapes = pd.read_csv(f\"{original_path}/shapes.csv\")\n",
    "df_stops = pd.read_csv(f\"{original_path}/stops.csv\")\n",
    "df_stop_times = pd.read_csv(f\"{original_path}/stop_times.csv\")#! Nisam jos pogledao sta ne valja od dtypa\n",
    "df_transfers = pd.read_csv(f\"{original_path}/transfers.csv\")\n",
    "df_trips = pd.read_csv(f\"{original_path}/trips.csv\")\n",
    "\n"
   ]
  },
  {
   "attachments": {},
   "cell_type": "markdown",
   "metadata": {},
   "source": [
    "### Statistička obrada podataka [5 poena]\n",
    "1) Odrediti prosečno vreme između dva polaska svake od linija. Koje su linije sa najčešćim, a koje sa najređim polascima?\n",
    "2) Koje su linije sa najvećim brojem stanica, a koje stanice sa najvećim brojem linija?\n",
    "3) Preračunati očekivani dnevni promet stanice kao ukupan očekivani broj stajanja linije na toj stanici, određen na osnovu planiranog rasporeda vožnje. Koje su stanice sa najvećim očekivanim dnevnim prometom?\n",
    "4) Svakoj stanici dodeliti tip na osnovu vrsta prevoza koje prolaze njom (stanica autobusa, tramvaja, trolejbusa ili meštovita stanica). Koliko ima stanica svakog tipa?"
   ]
  },
  {
   "cell_type": "code",
   "execution_count": 6,
   "metadata": {},
   "outputs": [
    {
     "data": {
      "text/html": [
       "<div>\n",
       "<style scoped>\n",
       "    .dataframe tbody tr th:only-of-type {\n",
       "        vertical-align: middle;\n",
       "    }\n",
       "\n",
       "    .dataframe tbody tr th {\n",
       "        vertical-align: top;\n",
       "    }\n",
       "\n",
       "    .dataframe thead th {\n",
       "        text-align: right;\n",
       "    }\n",
       "</style>\n",
       "<table border=\"1\" class=\"dataframe\">\n",
       "  <thead>\n",
       "    <tr style=\"text-align: right;\">\n",
       "      <th></th>\n",
       "      <th>route_id</th>\n",
       "      <th>service_id</th>\n",
       "      <th>trip_id</th>\n",
       "      <th>trip_headsign</th>\n",
       "      <th>direction_id</th>\n",
       "      <th>block_id</th>\n",
       "      <th>shape_id</th>\n",
       "      <th>wheelchair_accessible</th>\n",
       "      <th>bikes_allowed</th>\n",
       "    </tr>\n",
       "  </thead>\n",
       "  <tbody>\n",
       "    <tr>\n",
       "      <th>0</th>\n",
       "      <td>2</td>\n",
       "      <td>Zimski-Subota</td>\n",
       "      <td>1421378</td>\n",
       "      <td>Spoljašnji Krug</td>\n",
       "      <td>0</td>\n",
       "      <td>NaN</td>\n",
       "      <td>00002_shape_0</td>\n",
       "      <td>0</td>\n",
       "      <td>0</td>\n",
       "    </tr>\n",
       "    <tr>\n",
       "      <th>1</th>\n",
       "      <td>2</td>\n",
       "      <td>Zimski-Subota</td>\n",
       "      <td>1421379</td>\n",
       "      <td>Spoljašnji Krug</td>\n",
       "      <td>0</td>\n",
       "      <td>NaN</td>\n",
       "      <td>00002_shape_0</td>\n",
       "      <td>0</td>\n",
       "      <td>0</td>\n",
       "    </tr>\n",
       "    <tr>\n",
       "      <th>2</th>\n",
       "      <td>2</td>\n",
       "      <td>Zimski-Subota</td>\n",
       "      <td>1421380</td>\n",
       "      <td>Spoljašnji Krug</td>\n",
       "      <td>0</td>\n",
       "      <td>NaN</td>\n",
       "      <td>00002_shape_0</td>\n",
       "      <td>0</td>\n",
       "      <td>0</td>\n",
       "    </tr>\n",
       "    <tr>\n",
       "      <th>3</th>\n",
       "      <td>2</td>\n",
       "      <td>Zimski-Subota</td>\n",
       "      <td>1421381</td>\n",
       "      <td>Spoljašnji Krug</td>\n",
       "      <td>0</td>\n",
       "      <td>NaN</td>\n",
       "      <td>00002_shape_0</td>\n",
       "      <td>0</td>\n",
       "      <td>0</td>\n",
       "    </tr>\n",
       "    <tr>\n",
       "      <th>4</th>\n",
       "      <td>2</td>\n",
       "      <td>Zimski-Subota</td>\n",
       "      <td>1421382</td>\n",
       "      <td>Spoljašnji Krug</td>\n",
       "      <td>0</td>\n",
       "      <td>NaN</td>\n",
       "      <td>00002_shape_0</td>\n",
       "      <td>0</td>\n",
       "      <td>0</td>\n",
       "    </tr>\n",
       "    <tr>\n",
       "      <th>...</th>\n",
       "      <td>...</td>\n",
       "      <td>...</td>\n",
       "      <td>...</td>\n",
       "      <td>...</td>\n",
       "      <td>...</td>\n",
       "      <td>...</td>\n",
       "      <td>...</td>\n",
       "      <td>...</td>\n",
       "      <td>...</td>\n",
       "    </tr>\n",
       "    <tr>\n",
       "      <th>66048</th>\n",
       "      <td>90004</td>\n",
       "      <td>Zimski-Radni Dan</td>\n",
       "      <td>1400708</td>\n",
       "      <td>Kumodraž</td>\n",
       "      <td>1</td>\n",
       "      <td>NaN</td>\n",
       "      <td>90004_shape_1</td>\n",
       "      <td>0</td>\n",
       "      <td>0</td>\n",
       "    </tr>\n",
       "    <tr>\n",
       "      <th>66049</th>\n",
       "      <td>90004</td>\n",
       "      <td>Zimski-Radni Dan</td>\n",
       "      <td>1400709</td>\n",
       "      <td>Kumodraž</td>\n",
       "      <td>1</td>\n",
       "      <td>NaN</td>\n",
       "      <td>90004_shape_1</td>\n",
       "      <td>0</td>\n",
       "      <td>0</td>\n",
       "    </tr>\n",
       "    <tr>\n",
       "      <th>66050</th>\n",
       "      <td>90004</td>\n",
       "      <td>Zimski-Radni Dan</td>\n",
       "      <td>1400710</td>\n",
       "      <td>Kumodraž</td>\n",
       "      <td>1</td>\n",
       "      <td>NaN</td>\n",
       "      <td>90004_shape_1</td>\n",
       "      <td>0</td>\n",
       "      <td>0</td>\n",
       "    </tr>\n",
       "    <tr>\n",
       "      <th>66051</th>\n",
       "      <td>90004</td>\n",
       "      <td>Zimski-Radni Dan</td>\n",
       "      <td>1400711</td>\n",
       "      <td>Kumodraž</td>\n",
       "      <td>1</td>\n",
       "      <td>NaN</td>\n",
       "      <td>90004_shape_1</td>\n",
       "      <td>0</td>\n",
       "      <td>0</td>\n",
       "    </tr>\n",
       "    <tr>\n",
       "      <th>66052</th>\n",
       "      <td>90004</td>\n",
       "      <td>Zimski-Radni Dan</td>\n",
       "      <td>1400712</td>\n",
       "      <td>Kumodraž</td>\n",
       "      <td>1</td>\n",
       "      <td>NaN</td>\n",
       "      <td>90004_shape_1</td>\n",
       "      <td>0</td>\n",
       "      <td>0</td>\n",
       "    </tr>\n",
       "  </tbody>\n",
       "</table>\n",
       "<p>66053 rows × 9 columns</p>\n",
       "</div>"
      ],
      "text/plain": [
       "       route_id        service_id  trip_id    trip_headsign  direction_id  \\\n",
       "0             2     Zimski-Subota  1421378  Spoljašnji Krug             0   \n",
       "1             2     Zimski-Subota  1421379  Spoljašnji Krug             0   \n",
       "2             2     Zimski-Subota  1421380  Spoljašnji Krug             0   \n",
       "3             2     Zimski-Subota  1421381  Spoljašnji Krug             0   \n",
       "4             2     Zimski-Subota  1421382  Spoljašnji Krug             0   \n",
       "...         ...               ...      ...              ...           ...   \n",
       "66048     90004  Zimski-Radni Dan  1400708         Kumodraž             1   \n",
       "66049     90004  Zimski-Radni Dan  1400709         Kumodraž             1   \n",
       "66050     90004  Zimski-Radni Dan  1400710         Kumodraž             1   \n",
       "66051     90004  Zimski-Radni Dan  1400711         Kumodraž             1   \n",
       "66052     90004  Zimski-Radni Dan  1400712         Kumodraž             1   \n",
       "\n",
       "       block_id       shape_id  wheelchair_accessible  bikes_allowed  \n",
       "0           NaN  00002_shape_0                      0              0  \n",
       "1           NaN  00002_shape_0                      0              0  \n",
       "2           NaN  00002_shape_0                      0              0  \n",
       "3           NaN  00002_shape_0                      0              0  \n",
       "4           NaN  00002_shape_0                      0              0  \n",
       "...         ...            ...                    ...            ...  \n",
       "66048       NaN  90004_shape_1                      0              0  \n",
       "66049       NaN  90004_shape_1                      0              0  \n",
       "66050       NaN  90004_shape_1                      0              0  \n",
       "66051       NaN  90004_shape_1                      0              0  \n",
       "66052       NaN  90004_shape_1                      0              0  \n",
       "\n",
       "[66053 rows x 9 columns]"
      ]
     },
     "execution_count": 6,
     "metadata": {},
     "output_type": "execute_result"
    }
   ],
   "source": [
    "# 1) Odrediti prosečno vreme između dva polaska svake od linija.\n",
    "# Koje su linije sa najčešćim, a koje sa najređim polascima?\n",
    "\n",
    "# TODO\n",
    "df_trips"
   ]
  },
  {
   "cell_type": "code",
   "execution_count": 113,
   "metadata": {},
   "outputs": [
    {
     "data": {
      "text/html": [
       "<div>\n",
       "<style scoped>\n",
       "    .dataframe tbody tr th:only-of-type {\n",
       "        vertical-align: middle;\n",
       "    }\n",
       "\n",
       "    .dataframe tbody tr th {\n",
       "        vertical-align: top;\n",
       "    }\n",
       "\n",
       "    .dataframe thead th {\n",
       "        text-align: right;\n",
       "    }\n",
       "</style>\n",
       "<table border=\"1\" class=\"dataframe\">\n",
       "  <thead>\n",
       "    <tr style=\"text-align: right;\">\n",
       "      <th></th>\n",
       "      <th>stop_name</th>\n",
       "      <th>route_id</th>\n",
       "    </tr>\n",
       "  </thead>\n",
       "  <tbody>\n",
       "    <tr>\n",
       "      <th>23</th>\n",
       "      <td>Trg Republike</td>\n",
       "      <td>2</td>\n",
       "    </tr>\n",
       "    <tr>\n",
       "      <th>93</th>\n",
       "      <td>Pinosava</td>\n",
       "      <td>2</td>\n",
       "    </tr>\n",
       "  </tbody>\n",
       "</table>\n",
       "</div>"
      ],
      "text/plain": [
       "        stop_name  route_id\n",
       "23  Trg Republike         2\n",
       "93       Pinosava         2"
      ]
     },
     "execution_count": 113,
     "metadata": {},
     "output_type": "execute_result"
    }
   ],
   "source": [
    "# 2) Koje su linije sa najvećim brojem stanica, a koje stanice sa najvećim brojem linija?\n",
    "\n",
    "# TODO\n",
    "#stops (identified by the name) with routes\n",
    "\n",
    "#! Treba izvrsiti spajanje stanica pa iskombinovati sa ovim\n",
    "def find_stops_with_most_routes():\n",
    "    def stop_name_from_id(stop_id):\n",
    "        return df_stops[df_stops[\"stop_id\"] == stop_id].iloc[0][\"stop_name\"]\n",
    "\n",
    "    def route_id_from_trip(trip_id):\n",
    "        return df_trips[df_trips[\"trip_id\"] == trip_id].iloc[0][\"route_id\"]\n",
    "\n",
    "    def test2(trip_id):\n",
    "        return df_trips[df_trips[\"trip_id\"] == 1400710].iloc[0][\"route_id\"]\n",
    "\n",
    "    def test(trip_id):\n",
    "        if (trip_id % 2 == 0):\n",
    "            return 7\n",
    "        else:\n",
    "            return 9\n",
    "\n",
    "\n",
    "    test_example = df_stop_times[[\"stop_id\", \"trip_id\"]].head(100) #! Kod mene je presporo da probam na celom skupu\n",
    "    stop_times_with_route = test_example[[\"stop_id\", \"trip_id\"]].assign(route_id = test_example[\"trip_id\"].map(lambda x: route_id_from_trip(x)))\n",
    "    #stop_times_with_route = df_stop_times[[\"stop_id\", \"trip_id\"]].assign(route_id = df_stop_times[\"trip_id\"].map(lambda x: route_id_from_trip(x)))\n",
    "\n",
    "    stop_ids_with_num_routes= stop_times_with_route[[\"stop_id\", \"route_id\"]].groupby(\"stop_id\").count().reset_index()\n",
    "    stop_names_with_num_routes = stop_ids_with_num_routes.assign(stop_name = stop_ids_with_num_routes[\"stop_id\"].map(lambda x: stop_name_from_id(x)))\n",
    "\n",
    "    #! Treba videti kako da preimenujem sad ovu rout_id u broj ruta\n",
    "    lines_with_most_routes = stop_names_with_num_routes.loc[stop_ids_with_num_routes[\"route_id\"] == stop_ids_with_num_routes[\"route_id\"].max()][[\"stop_name\", \"route_id\"]]\n",
    "    return lines_with_most_routes\n",
    "\n",
    "find_stops_with_most_routes()\n"
   ]
  },
  {
   "cell_type": "code",
   "execution_count": null,
   "metadata": {},
   "outputs": [],
   "source": [
    "# 3) Preračunati očekivani dnevni promet stanice kao ukupan očekivani broj stajanja linije na toj stanici,\n",
    "# određen na osnovu planiranog rasporeda vožnje. Koje su stanice sa najvećim očekivanim dnevnim prometom?\n",
    "\n",
    "# TODO"
   ]
  },
  {
   "cell_type": "code",
   "execution_count": null,
   "metadata": {},
   "outputs": [],
   "source": [
    "# 4) Svakoj stanici dodeliti tip na osnovu vrsta prevoza koje prolaze njom\n",
    "# (stanica autobusa, tramvaja, trolejbusa ili meštovita stanica). Koliko ima stanica svakog tipa?\n",
    "\n",
    "# TODO"
   ]
  },
  {
   "attachments": {},
   "cell_type": "markdown",
   "metadata": {},
   "source": [
    "### Osnovna karakterizacija modelovanih mreža [10 poena]\n",
    "5) Kolika je gustina mreže?\n",
    "6) Kolike su prosečne distance u okviru mreže i dijametar mreže?\n",
    "7) U kojoj meri je mreža povezana i centralizovana? Navesti broj i veličine povezanih komponenata i proceniti da li postoji gigantska komponenta.\n",
    "8) Koliki je prosečni, a koliki globalni koeficijent klasterizacije mreže? Kakva je raspodela lokalnog koeficijenta klasterizacije njenih čvorova? Da li je klasterisanje izraženo ili ne? Odgovor dati upoređivanjem sa slučajno generisanim Erdos-Renyi i scale free mrežama istih dimenzija.\n",
    "9) Na osnovu odgovora na pitanja 6 i 8, proceniti da li mreža iskazuje osobine malog sveta.\n",
    "10) Izvršiti asortativnu analizu po stepenu čvora i dati odgovor da li je izraženo asortativno mešanje. Priložiti i vizuelizaciju.\n",
    "11) Da li mreža ispoljava fenomen kluba bogatih (eng. rich club phenomenon)?\n",
    "12) Analizirati stajališta na osnovu tarifne zone kojoj pripadaju. Ispitati da li BGNetL i BGNetP mreže odgovaraju modelu jezgra i periferije (core-periphery model). Smatrati da prva zona pripada jezgru, a ostale periferiji.\n",
    "13) Kakva je distribucija čvorova po stepenu i da li prati power law raspodelu?"
   ]
  },
  {
   "cell_type": "code",
   "execution_count": null,
   "metadata": {},
   "outputs": [],
   "source": [
    "# 5) Kolika je gustina mreže?\n",
    "\n",
    "#TODO"
   ]
  },
  {
   "cell_type": "code",
   "execution_count": null,
   "metadata": {},
   "outputs": [],
   "source": [
    "# 6) Kolike su prosečne distance u okviru mreže i dijametar mreže?\n",
    "\n",
    "#TODO"
   ]
  },
  {
   "cell_type": "code",
   "execution_count": null,
   "metadata": {},
   "outputs": [],
   "source": [
    "# 7) U kojoj meri je mreža povezana i centralizovana?\n",
    "# Navesti broj i veličine povezanih komponenata i proceniti da li postoji gigantska komponenta.\n",
    "\n",
    "#TODO"
   ]
  },
  {
   "cell_type": "code",
   "execution_count": null,
   "metadata": {},
   "outputs": [],
   "source": [
    "# 8) Koliki je prosečni, a koliki globalni koeficijent klasterizacije mreže?\n",
    "# Kakva je raspodela lokalnog koeficijenta klasterizacije njenih čvorova?\n",
    "# Da li je klasterisanje izraženo ili ne?\n",
    "# Odgovor dati upoređivanjem sa slučajno generisanim Erdos-Renyi i scale free mrežama istih dimenzija.\n",
    "\n",
    "#TODO"
   ]
  },
  {
   "cell_type": "code",
   "execution_count": null,
   "metadata": {},
   "outputs": [],
   "source": [
    "# 9) Na osnovu odgovora na pitanja 6 i 8, proceniti da li mreža iskazuje osobine malog sveta.\n",
    "\n",
    "#TODO"
   ]
  },
  {
   "cell_type": "code",
   "execution_count": null,
   "metadata": {},
   "outputs": [],
   "source": [
    "# 10) Izvršiti asortativnu analizu po stepenu čvora i dati odgovor\n",
    "# da li je izraženo asortativno mešanje. Priložiti i vizuelizaciju.\n",
    "\n",
    "#TODO"
   ]
  },
  {
   "cell_type": "code",
   "execution_count": null,
   "metadata": {},
   "outputs": [],
   "source": [
    "# 11) Da li mreža ispoljava fenomen kluba bogatih (eng. rich club phenomenon)?\n",
    "\n",
    "#TODO"
   ]
  },
  {
   "cell_type": "code",
   "execution_count": null,
   "metadata": {},
   "outputs": [],
   "source": [
    "# 12) Analizirati stajališta na osnovu tarifne zone kojoj pripadaju.\n",
    "# Ispitati da li BGNetL i BGNetP mreže odgovaraju modelu jezgra i periferije (core-periphery model).\n",
    "# Smatrati da prva zona pripada jezgru, a ostale periferiji.\n",
    "\n",
    "#TODO"
   ]
  },
  {
   "cell_type": "code",
   "execution_count": null,
   "metadata": {},
   "outputs": [],
   "source": [
    "# 13) Kakva je distribucija čvorova po stepenu i da li prati power law raspodelu?\n",
    "\n",
    "#TODO"
   ]
  },
  {
   "attachments": {},
   "cell_type": "markdown",
   "metadata": {},
   "source": [
    "### Analiza mera centralnosti [5 poena]\n",
    "14) Sprovesti analize centralnosti po stepenu, bliskosti i relacionoj centralnosti. Dati pregled najvažnijih aktera po svakoj od njih.\n",
    "15) Ko su najvažniji akteri po centralnosti po sopstvenom vektoru? Šta nam to govori o njima?\n",
    "16) Na osnovu prethodna dva pitanja predložiti i konstruisati heuristiku (kompozitnu meru centralnosti) za pronalaženje najvažnijih aktera i pronaći ih. Obratiti pažnju na tip mreže koji se analizira (usmerena ili neusmerena) i, shodno tome, prilagoditi koliko različite mrežne metrike utiču na heuristiku."
   ]
  },
  {
   "cell_type": "code",
   "execution_count": null,
   "metadata": {},
   "outputs": [],
   "source": [
    "# 14) Sprovesti analize centralnosti po stepenu, bliskosti i relacionoj centralnosti.\n",
    "# Dati pregled najvažnijih aktera po svakoj od njih.\n",
    "\n",
    "# TODO"
   ]
  },
  {
   "cell_type": "code",
   "execution_count": null,
   "metadata": {},
   "outputs": [],
   "source": [
    "# 15) Ko su najvažniji akteri po centralnosti po sopstvenom vektoru? Šta nam to govori o njima?\n",
    "\n",
    "# TODO"
   ]
  },
  {
   "cell_type": "code",
   "execution_count": null,
   "metadata": {},
   "outputs": [],
   "source": [
    "# 16) Na osnovu prethodna dva pitanja predložiti i konstruisati heuristiku (kompozitnu meru centralnosti)\n",
    "# za pronalaženje najvažnijih aktera i pronaći ih. Obratiti pažnju na tip mreže koji se analizira (usmerena ili neusmerena) i,\n",
    "# shodno tome, prilagoditi koliko različite mrežne metrike utiču na heuristiku.\n",
    "\n",
    "# TODO"
   ]
  },
  {
   "attachments": {},
   "cell_type": "markdown",
   "metadata": {},
   "source": [
    "### Detekcija komuna Luvenskom metodom [5 poena]\n",
    "17) Sprovesti klasterisanje Luvenskom metodom (maksimizacijom modularnosti) u alatu Gephi za tri različite vrednosti parametra rezolucije. Konstruisati vizuelizacije i diskutovati izbor parametra rezolucije na dobijeno klasterisanje (broj i veličina klastera).\n",
    "18) Koje zajednice (komune) se mogu uočiti prilikom analize mreže, a koji akteri su ključni brokeri? Da li postoji neko objašnjenje za detektovane komune? Odgovor dati posmatrajući ne samo strukturu mreže, već i atribute preračunate u pitanjima 3 i 4."
   ]
  },
  {
   "cell_type": "code",
   "execution_count": null,
   "metadata": {},
   "outputs": [],
   "source": [
    "# 17) Sprovesti klasterisanje Luvenskom metodom (maksimizacijom modularnosti) u alatu Gephi za tri različite vrednosti parametra rezolucije.\n",
    "# Konstruisati vizuelizacije i diskutovati izbor parametra rezolucije na dobijeno klasterisanje (broj i veličina klastera).\n",
    "\n",
    "# TODO"
   ]
  },
  {
   "cell_type": "code",
   "execution_count": null,
   "metadata": {},
   "outputs": [],
   "source": [
    "# 18) Koje zajednice (komune) se mogu uočiti prilikom analize mreže, a koji akteri su ključni brokeri?\n",
    "# Da li postoji neko objašnjenje za detektovane komune?\n",
    "# Odgovor dati posmatrajući ne samo strukturu mreže, već i atribute preračunate u pitanjima 3 i 4.\n",
    "\n",
    "# TODO"
   ]
  },
  {
   "attachments": {},
   "cell_type": "markdown",
   "metadata": {},
   "source": [
    "### Detekcija komuna spektralnim klasterisanjem [10 poena]\n",
    "19) Predložiti funkcije sličnosti za L i P modele koje, osim strukturnih informacija iz odgovarajućih mreža, uključuju i geografske podatke o čvorovima i konstruisati matrice sličnosti i graf Laplasijane na osnovu predloženih funkcija sličnosti.\n",
    "20) Sprovesti sprektralnu analizu i proceniti potencijalne kandidate za broj komuna u mreži. Uporediti rezultat sa dendogramom konstruisanim Girvan-Newman metodom.\n",
    "21) Izvršiti spektralno klasterisanje na osnovu konstruisanih funkcija sličnosti i procenjenog broja klastera. Vizuelizovati klasterisanje na mapi gradskog saobraćaja, tako što će se stanice koje su svrstane u isti klaster crtati istom bojom. Izabrati boje koje daju dobar kontrast u odnosu na mapu i boje drugih klastera.\n",
    "22) Ko su akteri koji se mogu okarakterisati kao ključni brokeri (mostovi) u mreži? Šta ih čini brokerima? Porediti odgovor sa brokerima dobijenim u pitanju 17."
   ]
  },
  {
   "cell_type": "code",
   "execution_count": null,
   "metadata": {},
   "outputs": [],
   "source": [
    "# 19) Predložiti funkcije sličnosti za L i P modele koje, osim strukturnih informacija iz odgovarajućih mreža,\n",
    "# uključuju i geografske podatke o čvorovima i konstruisati matrice sličnosti i graf Laplasijane na osnovu predloženih funkcija sličnosti.\n",
    "\n",
    "# TODO"
   ]
  },
  {
   "cell_type": "code",
   "execution_count": null,
   "metadata": {},
   "outputs": [],
   "source": [
    "# 20) Sprovesti sprektralnu analizu i proceniti potencijalne kandidate za broj komuna u mreži.\n",
    "# Uporediti rezultat sa dendogramom konstruisanim Girvan-Newman metodom.\n",
    "\n",
    "# TODO"
   ]
  },
  {
   "cell_type": "code",
   "execution_count": null,
   "metadata": {},
   "outputs": [],
   "source": [
    "# 21) Izvršiti spektralno klasterisanje na osnovu konstruisanih funkcija sličnosti i procenjenog broja klastera.\n",
    "# Vizuelizovati klasterisanje na mapi gradskog saobraćaja, tako što će se stanice koje su svrstane u isti klaster crtati istom bojom.\n",
    "# Izabrati boje koje daju dobar kontrast u odnosu na mapu i boje drugih klastera.\n",
    "\n",
    "# TODO"
   ]
  },
  {
   "cell_type": "code",
   "execution_count": null,
   "metadata": {},
   "outputs": [],
   "source": [
    "# 22) Ko su akteri koji se mogu okarakterisati kao ključni brokeri (mostovi) u mreži?\n",
    "# Šta ih čini brokerima?\n",
    "# Porediti odgovor sa brokerima dobijenim u pitanju 17.\n",
    "\n",
    "# TODO"
   ]
  },
  {
   "attachments": {},
   "cell_type": "markdown",
   "metadata": {},
   "source": [
    "### Analiza mreže BGNetLWalk [5 poena]\n",
    "23) Ponoviti sve analize koje imaju smisla za BGNetLWalk mrežu. Uporediti i komentarisati dobijene rezultate sa BGNetL mrežom. Da li se uočavaju značajnije promene u mreži?"
   ]
  },
  {
   "cell_type": "code",
   "execution_count": null,
   "metadata": {},
   "outputs": [],
   "source": [
    "# 23) Ponoviti sve analize koje imaju smisla za BGNetLWalk mrežu.\n",
    "# Uporediti i komentarisati dobijene rezultate sa BGNetL mrežom.\n",
    "# Da li se uočavaju značajnije promene u mreži?\n",
    "\n",
    "# TODO: pokrenuti notebook sa drugačijim parametrima"
   ]
  }
 ],
 "metadata": {
  "kernelspec": {
   "display_name": "Python 3.10.8 ('transportation')",
   "language": "python",
   "name": "python3"
  },
  "language_info": {
   "codemirror_mode": {
    "name": "ipython",
    "version": 3
   },
   "file_extension": ".py",
   "mimetype": "text/x-python",
   "name": "python",
   "nbconvert_exporter": "python",
   "pygments_lexer": "ipython3",
   "version": "3.10.8"
  },
  "orig_nbformat": 4,
  "vscode": {
   "interpreter": {
    "hash": "ca004c2a04cd50eac9f754ef6aa1cd1a69bcab382224ee4cd556869f43c35bb8"
   }
  }
 },
 "nbformat": 4,
 "nbformat_minor": 2
}
